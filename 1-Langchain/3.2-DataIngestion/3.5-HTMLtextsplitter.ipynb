{
 "cells": [
  {
   "cell_type": "code",
   "execution_count": 11,
   "metadata": {},
   "outputs": [],
   "source": [
    "from langchain_text_splitters import HTMLHeaderTextSplitter"
   ]
  },
  {
   "cell_type": "code",
   "execution_count": 12,
   "metadata": {},
   "outputs": [],
   "source": [
    "html_string = \"\"\"<!DOCTYPE html>\n",
    "<html>\n",
    "<head>\n",
    "  <title>My First HTML Page</title>\n",
    "</head>\n",
    "<body>\n",
    "\n",
    "  <h1>This is a Heading</h1>\n",
    "  <p>This is a paragraph of text.</p>\n",
    "  <p>This is another paragraph.</p>\n",
    "\n",
    "  <h2>This is a Subheading</h2>\n",
    "  <p>This is a paragraph under the subheading.</p>\n",
    "\n",
    "  <p>This text is <b>bold</b>, <i>italic</i>, and <small>small</small>.</p>\n",
    "  <p>This text is <mark>highlighted</mark>.</p>\n",
    "  <p>This text is <del>crossed out</del> and <ins>inserted</ins>.</p>\n",
    "  <p>This is a line break <br> with a new line.</p>\n",
    "\n",
    "</body>\n",
    "</html>\"\"\""
   ]
  },
  {
   "cell_type": "code",
   "execution_count": 23,
   "metadata": {},
   "outputs": [
    {
     "data": {
      "text/plain": [
       "[Document(metadata={'Header 1': 'This is a Heading'}, page_content='This is a Heading'),\n",
       " Document(metadata={'Header 1': 'This is a Heading'}, page_content='This is a paragraph of text.  \\nThis is another paragraph.'),\n",
       " Document(metadata={'Header 1': 'This is a Heading', 'Header 2': 'This is a Subheading'}, page_content='This is a Subheading'),\n",
       " Document(metadata={'Header 1': 'This is a Heading', 'Header 2': 'This is a Subheading'}, page_content='This is a paragraph under the subheading.  \\nThis text is  ,  , and  .  \\nbold  \\nitalic  \\nsmall  \\nThis text is  .  \\nhighlighted  \\nThis text is   and  .  \\ncrossed out  \\ninserted  \\nThis is a line break   with a new line.')]"
      ]
     },
     "execution_count": 23,
     "metadata": {},
     "output_type": "execute_result"
    }
   ],
   "source": [
    "header_to_split_on = [\n",
    "    (\"h1\",\"Header 1\"),\n",
    "    (\"h2\",\"Header 2\"),\n",
    "    (\"h3\", \"Header 3\")\n",
    "    #(\"p\", \"para graph\")\n",
    "]\n",
    "\n",
    "html_splitter = HTMLHeaderTextSplitter(header_to_split_on)\n",
    "html_splitter.split_text(html_string)"
   ]
  },
  {
   "cell_type": "code",
   "execution_count": 35,
   "metadata": {},
   "outputs": [
    {
     "data": {
      "text/plain": [
       "[Document(metadata={}, page_content='(function(){var src=\\'/images/nav_logo229.png\\';var iesg=false;document.body.onload = function(){window.n && window.n();if (document.images){new Image().src=src;}\\nif (!iesg){document.f&&document.f.q.focus();document.gbqf&&document.gbqf.q.focus();}\\n}\\n})();  \\nSearch  \\nImages  \\nMaps  \\nPlay  \\nYouTube  \\nNews  \\nGmail  \\nDrive  \\n»  \\nMore  \\n|   |  \\nWeb History  \\nSettings  \\nSign in  \\n(function(){var id=\\'tsuid_bqfhZ-HjIYaP4-EPls2SgA8_1\\';document.getElementById(id).onclick = function(){if (this.form.q.value){this.checked = 1;if (this.form.iflsig)this.form.iflsig.disabled = false;}\\nelse top.location=\\'/doodles/\\';};})();  \\nAdvanced search  \\n(function(){var a,b=\"1\";if(document&&document.getElementById)if(typeof XMLHttpRequest!=\"undefined\")b=\"2\";else if(typeof ActiveXObject!=\"undefined\"){var c,d,e=[\"MSXML2.XMLHTTP.6.0\",\"MSXML2.XMLHTTP.3.0\",\"MSXML2.XMLHTTP\",\"Microsoft.XMLHTTP\"];for(c=0;d=e[c++];)try{new ActiveXObject(d),b=\"2\"}catch(h){}}a=b;if(a==\"2\"&&location.search.indexOf(\"&gbv=2\")==-1){var f=google.gbvu,g=document.getElementById(\"gbv\");g&&(g.value=a);f&&window.setTimeout(function(){location.href=f},0)};}).call(this);  \\n#gws-output-pages-elements-homepage_additional_languages__als{font-size:small;margin-bottom:24px}#SIvCob{color:#474747;display:inline-block;line-height:28px;}#SIvCob a{padding:0 3px;}.H6sW5{display:inline-block;margin:0 2px;white-space:nowrap}.z4hgWe{display:inline-block;margin:0 2px}  \\nGoogle offered in:  \\nहिन्दी  \\nবাংলা  \\nతెలుగు  \\nमराठी  \\nதமிழ்  \\nગુજરાતી  \\nಕನ್ನಡ  \\nമലയാളം  \\nਪੰਜਾਬੀ  \\nAdvertising  \\nBusiness Solutions  \\nAbout Google  \\nGoogle.co.in  \\n© 2025 -   -  \\nPrivacy  \\nTerms  \\n(function(){window.google.cdo={height:757,width:1440};(function(){var a=window.innerWidth,b=window.innerHeight;if(!a||!b){var c=window.document,d=c.compatMode==\"CSS1Compat\"?c.documentElement:c.body;a=d.clientWidth;b=d.clientHeight}if(a&&b&&(a!=google.cdo.width||b!=google.cdo.height)){var e=google,f=e.log,g=\"/client_204?&atyp=i&biw=\"+a+\"&bih=\"+b+\"&ei=\"+google.kEI,h=\"\",k=window.google&&window.google.kOPI||null;k&&(h+=\"&opi=\"+k);f.call(e,\"\",\"\",g+h)};}).call(this);})();  \\n(function(){google.xjs={basecomb:\\'/xjs/_/js/k\\\\x3dxjs.hp.en.RznwVIjVUBI.es5.O/ck\\\\x3dxjs.hp.k-QdMaF47O0.L.X.O/am\\\\x3dAAAAAAAAAgAAAAAAAAAAAAAAAAAAAAAAAAAAAIAhCAIAAAAAAAAAALAAgMCUAOAAAAARAAgQAAAAAAAAAAAAAAAACQCAAACAAAAAgPiOAIAAWAQAAC8/d\\\\x3d1/ed\\\\x3d1/dg\\\\x3d0/ujg\\\\x3d1/rs\\\\x3dACT90oHtJ2UdAFYbG5Tiao2uKLHv3pSRKg\\',basecss:\\'/xjs/_/ss/k\\\\x3dxjs.hp.k-QdMaF47O0.L.X.O/am\\\\x3dAAAAAAAAAgAAAAAAAAAAAAAAAAAAAAAAAAAAAIAhAAIAAAAAAAAAALAAgMAUAAAAAAARAAgQAAAAAAAAAAAAAAAACQCAAACA/rs\\\\x3dACT90oEJp7eR5804-EKv0c_Q0BAkheHbzQ\\',basejs:\\'/xjs/_/js/k\\\\x3dxjs.hp.en.RznwVIjVUBI.es5.O/am\\\\x3dAAAAAAAAAAAAAAAAAAAAAAAAAAAAAAAAAAAAAAAACAAAAAAAAAAAAIAAAACAAOAAAAAAAAAAAAAAAAAAAAAAAAAAAAAAAAAAAAAAgPiOAIAAWAQAAC8/dg\\\\x3d0/rs\\\\x3dACT90oE7b78ESNdrzWmIG2PJvAFCVIR9bw\\',excm:[]};})();  \\n(function(){var u=\\'/xjs/_/js/k\\\\x3dxjs.hp.en.RznwVIjVUBI.es5.O/am\\\\x3dAAAAAAAAAAAAAAAAAAAAAAAAAAAAAAAAAAAAAAAACAAAAAAAAAAAAIAAAACAAOAAAAAAAAAAAAAAAAAAAAAAAAAAAAAAAAAAAAAAgPiOAIAAWAQAAC8/d\\\\x3d1/ed\\\\x3d1/dg\\\\x3d3/rs\\\\x3dACT90oE7b78ESNdrzWmIG2PJvAFCVIR9bw/m\\\\x3dsb_he,d\\';var st=1;var amd=1000;var mmd=0;var pod=true;var pop=true;var fp=\\'\\';\\nvar e=this||self;function f(){var a,b,d;if(b=a=(b=window.google)==null?void 0:(d=b.ia)==null?void 0:d.r.B2Jtyd)b=a.m,b=b===1||b===5;return b&&a.cbfd!=null&&a.cbvi!=null?a:void 0};function g(){var a=[u];if(!google.dp){for(var b=0;b<a.length;b++){var d=a[b],c=document.createElement(\"link\");c.as=\"script\";c.href=d;c.rel=\"preload\";document.body.appendChild(c)}google.dp=!0}};google.ps===void 0&&(google.ps=[]);function h(){var a=u,b=function(){};google.lx=google.stvsc?b:function(){k(a);google.lx=b};google.bx||google.lx()}function l(a,b){b&&(a.src=b);fp&&(a.fetchPriority=fp);var d=a.onload;a.onload=function(c){d&&d(c);google.ps=google.ps.filter(function(E){return a!==E})};google.ps.push(a);document.body.appendChild(a)}google.as=l;function k(a){google.timers&&google.timers.load&&google.tick&&google.tick(\"load\",\"xjsls\");var b=document.createElement(\"script\");b.onerror=function(){google.ple=1};b.onload=function(){google.ple=0};google.xjsus=void 0;l(b,a);google.aple=-1;google.dp=!0};function m(a){var b=a.getAttribute(\"jscontroller\");return(b===\"UBXHI\"||b===\"R3fhkb\"||b===\"TSZEqd\")&&a.hasAttribute(\"data-src\")}function n(){for(var a=document.getElementsByTagName(\"img\"),b=0,d=a.length;b<d;b++){var c=a[b];if(c.hasAttribute(\"data-lzy_\")&&Number(c.getAttribute(\"data-atf\"))&1&&!m(c))return!0}return!1}for(var p=document.getElementsByTagName(\"img\"),q=0,r=p.length;q<r;++q){var t=p[q];Number(t.getAttribute(\"data-atf\"))&1&&m(t)&&(t.src=t.getAttribute(\"data-src\"))};var w,x,y,z,A,B,C,D;function F(){google.xjsu=u;e._F_jsUrl=u;A=function(){h()};w=!1;x=(st===1||st===3)&&!!google.caft&&!n();y=f();z=(st===2||st===3)&&!!y&&!n();B=pod;D=(C=pop)&&document.prerendering}function G(){w||x||z||D||(A(),w=!0)}\\nsetTimeout(function(){google&&google.tick&&google.timers&&google.timers.load&&google.tick(\"load\",\"xjspls\");F();if(x||z||D){if(x){var a=function(){x=!1;G()};google.caft(a);window.setTimeout(a,amd)}z&&(a=function(){z=!1;G()},y.cbvi.push(a),window.setTimeout(a,mmd));D&&document.addEventListener(\"prerenderingchange\",function(){D=!1;G()},{once:!0});if(B||C)w||g()}else A()},0);})();window._ = window._ || {};window._DumpException = _._DumpException = function(e){throw e;};window._s = window._s || {};_s._DumpException = _._DumpException;window._qs = window._qs || {};_qs._DumpException = _._DumpException;(function(){var t=[0,524288,0,0,0,0,0,140509184,648,268435456,188743680,623930368,385024,536888320,256,1,0,2359296,2048,32,9369728,291570176,49283072];window._F_toggles = window._xjs_toggles = t;})();window._F_installCss = window._F_installCss || function(css){};(function(){google.jl={bfl:0,dw:false,ine:false,ubm:false,uwp:true,vs:false};})();(function(){var pmc=\\'{\\\\x22csies\\\\x22:{},\\\\x22d\\\\x22:{},\\\\x22sb_he\\\\x22:{\\\\x22agen\\\\x22:false,\\\\x22cgen\\\\x22:false,\\\\x22client\\\\x22:\\\\x22heirloom-hp\\\\x22,\\\\x22dh\\\\x22:true,\\\\x22ds\\\\x22:\\\\x22\\\\x22,\\\\x22fl\\\\x22:true,\\\\x22host\\\\x22:\\\\x22google.com\\\\x22,\\\\x22jsonp\\\\x22:true,\\\\x22msgs\\\\x22:{\\\\x22cibl\\\\x22:\\\\x22Clear Search\\\\x22,\\\\x22dym\\\\x22:\\\\x22Did you mean:\\\\x22,\\\\x22lcky\\\\x22:\\\\x22I\\\\\\\\u0026#39;m Feeling Lucky\\\\x22,\\\\x22lml\\\\x22:\\\\x22Learn more\\\\x22,\\\\x22psrc\\\\x22:\\\\x22This search was removed from your \\\\\\\\u003Ca href\\\\x3d\\\\\\\\\\\\x22/history\\\\\\\\\\\\x22\\\\\\\\u003EWeb History\\\\\\\\u003C/a\\\\\\\\u003E\\\\x22,\\\\x22psrl\\\\x22:\\\\x22Remove\\\\x22,\\\\x22sbit\\\\x22:\\\\x22Search by image\\\\x22,\\\\x22srch\\\\x22:\\\\x22Google Search\\\\x22},\\\\x22ovr\\\\x22:{},\\\\x22pq\\\\x22:\\\\x22\\\\x22,\\\\x22rfs\\\\x22:[],\\\\x22stok\\\\x22:\\\\x221Kgzj0EFDSUuLGEMXOFKJreIP8c\\\\x22}}\\';google.pmc=JSON.parse(pmc);})();')]"
      ]
     },
     "execution_count": 35,
     "metadata": {},
     "output_type": "execute_result"
    }
   ],
   "source": [
    "url = \"https://www.google.com\"\n",
    "header_to_split_on = [\n",
    "    (\"h1\",\"Header 1\"),\n",
    "    (\"h2\",\"Header 2\"),\n",
    "    (\"h3\", \"Header 3\")\n",
    "    #(\"p\", \"para graph\")\n",
    "]\n",
    "\n",
    "html_splitter = HTMLHeaderTextSplitter(header_to_split_on)\n",
    "html_splitter.split_text_from_url(url,verify= False)"
   ]
  },
  {
   "cell_type": "code",
   "execution_count": null,
   "metadata": {},
   "outputs": [],
   "source": []
  }
 ],
 "metadata": {
  "kernelspec": {
   "display_name": "Python 3",
   "language": "python",
   "name": "python3"
  },
  "language_info": {
   "codemirror_mode": {
    "name": "ipython",
    "version": 3
   },
   "file_extension": ".py",
   "mimetype": "text/x-python",
   "name": "python",
   "nbconvert_exporter": "python",
   "pygments_lexer": "ipython3",
   "version": "3.10.0"
  }
 },
 "nbformat": 4,
 "nbformat_minor": 2
}
